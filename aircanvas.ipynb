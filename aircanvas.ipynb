{
 "cells": [
  {
   "cell_type": "code",
   "execution_count": 1,
   "id": "5aeee2f1-511c-4f75-9e2a-c0c0a1742893",
   "metadata": {},
   "outputs": [],
   "source": [
    "import numpy as np"
   ]
  },
  {
   "cell_type": "code",
   "execution_count": 2,
   "id": "b38c81a0-1c29-46e3-93cb-011c8786121c",
   "metadata": {},
   "outputs": [],
   "source": [
    "from collections import deque"
   ]
  },
  {
   "cell_type": "code",
   "execution_count": 3,
   "id": "8ca55bc6-2778-4c37-bb86-13ab6d73346f",
   "metadata": {},
   "outputs": [],
   "source": [
    "import mediapipe as mp\n"
   ]
  },
  {
   "cell_type": "code",
   "execution_count": 4,
   "id": "021fc524-12c6-4866-bd88-d31857e7f157",
   "metadata": {},
   "outputs": [],
   "source": [
    "import cv2"
   ]
  },
  {
   "cell_type": "code",
   "execution_count": 5,
   "id": "0e477f41-8e7e-49bd-a003-ab80c2a1956f",
   "metadata": {},
   "outputs": [],
   "source": [
    "bpoints=[deque(maxlen=1024)]\n",
    "rpoints=[deque(maxlen=1024)]\n",
    "gpoints=[deque(maxlen=1024)]\n",
    "ypoints=[deque(maxlen=1024)]"
   ]
  },
  {
   "cell_type": "code",
   "execution_count": 6,
   "id": "92120b22-f3dc-4a87-8976-81e36d636d01",
   "metadata": {},
   "outputs": [],
   "source": [
    "#this will tell which color is selected at a moment\n",
    "red_index=0\n",
    "blue_index=0\n",
    "green_index=0\n",
    "yellow_index=0"
   ]
  },
  {
   "cell_type": "code",
   "execution_count": 7,
   "id": "b275e3fb-7c29-4855-87d0-01ace678482a",
   "metadata": {},
   "outputs": [],
   "source": [
    "kernel=np.ones((5,5),np.uint8)"
   ]
  },
  {
   "cell_type": "code",
   "execution_count": 8,
   "id": "6b26c881-c5be-4ac5-ba4d-1028e317c095",
   "metadata": {},
   "outputs": [],
   "source": [
    "colors=[(255,0,0),(0,255,0),(0,0,255),(0,255,255)]"
   ]
  },
  {
   "cell_type": "code",
   "execution_count": 9,
   "id": "910387b2-d7b3-42da-a4ce-56a016210a4b",
   "metadata": {},
   "outputs": [],
   "source": [
    "colorIndex=0"
   ]
  },
  {
   "cell_type": "code",
   "execution_count": 10,
   "id": "c7171183-f7fd-423b-9f56-60de37af6944",
   "metadata": {},
   "outputs": [],
   "source": [
    "#for making the white background\n",
    "paintwindow=np.zeros((471,636,3))+255\n",
    "paintwindow=cv2.rectangle(paintwindow,(40,1),(140,65),(0,0,0),2)\n",
    "paintwindow=cv2.rectangle(paintwindow,(160,1),(255,65),colors[0],2)\n",
    "paintwindow=cv2.rectangle(paintwindow,(275,1),(370,65),colors[1],2)\n",
    "paintwindow=cv2.rectangle(paintwindow,(390,1),(485,65),colors[2],2)\n",
    "paintwindow=cv2.rectangle(paintwindow,(505,1),(600,65),colors[3],2)"
   ]
  },
  {
   "cell_type": "code",
   "execution_count": 11,
   "id": "ef00b029-6cf9-49ec-aee2-e2732e1f1aa0",
   "metadata": {},
   "outputs": [],
   "source": [
    "cv2.putText(paintwindow,\"CLEAR\",(49,33),cv2.FONT_HERSHEY_SIMPLEX,0.5,(0,0,0),2,cv2.LINE_AA)\n",
    "cv2.putText(paintwindow,\"BLUE\",(185,33),cv2.FONT_HERSHEY_SIMPLEX,0.5,(0,0,0),2,cv2.LINE_AA)\n",
    "cv2.putText(paintwindow,\"GREEN\",(298,33),cv2.FONT_HERSHEY_SIMPLEX,0.5,(0,0,0),2,cv2.LINE_AA)\n",
    "cv2.putText(paintwindow,\"RED\",(420,33),cv2.FONT_HERSHEY_SIMPLEX,0.5,(0,0,0),2,cv2.LINE_AA)\n",
    "cv2.putText(paintwindow,\"YELLOW\",(520,33),cv2.FONT_HERSHEY_SIMPLEX,0.5,(0,0,0),2,cv2.LINE_AA)\n",
    "cv2.namedWindow(\"Paint\",cv2.WINDOW_AUTOSIZE)"
   ]
  },
  {
   "cell_type": "code",
   "execution_count": 12,
   "id": "f3a52c29-1d1a-4f2d-b84f-f240d9dc69d3",
   "metadata": {},
   "outputs": [],
   "source": [
    "#initialize mediapipe\n",
    "mpHands=mp.solutions.hands\n",
    "hands=mpHands.Hands(max_num_hands=1,min_detection_confidence=0.7)\n",
    "mpDraw=mp.solutions.drawing_utils #for making landmarks\n",
    "\n"
   ]
  },
  {
   "cell_type": "code",
   "execution_count": 14,
   "id": "80f174c1-d08f-409f-a4e7-36861067a372",
   "metadata": {},
   "outputs": [
    {
     "name": "stderr",
     "output_type": "stream",
     "text": [
      "C:\\Users\\harsh\\anaconda3\\Lib\\site-packages\\google\\protobuf\\symbol_database.py:55: UserWarning: SymbolDatabase.GetPrototype() is deprecated. Please use message_factory.GetMessageClass() instead. SymbolDatabase.GetPrototype() will be removed soon.\n",
      "  warnings.warn('SymbolDatabase.GetPrototype() is deprecated. Please '\n"
     ]
    }
   ],
   "source": [
    "#intialize web cam\n",
    "cap=cv2.VideoCapture(0)\n",
    "ret,frame_temp=cap.read()\n",
    "while ret:\n",
    "    ret,frame=cap.read()\n",
    "    x,y,c=frame.shape\n",
    "    #flip the frame vertically\n",
    "    frame=cv2.flip(frame,1)\n",
    "    framergb=cv2.cvtColor(frame,cv2.COLOR_BGR2RGB)\n",
    "\n",
    "    frame=cv2.rectangle(frame,(40,1),(140,65),(0,0,0),2)\n",
    "    frame=cv2.rectangle(frame,(160,1),(255,65),colors[0],2)\n",
    "    frame=cv2.rectangle(frame,(275,1),(370,65),colors[1],2)\n",
    "    frame=cv2.rectangle(frame,(390,1),(485,65),colors[2],2)\n",
    "    frame=cv2.rectangle(frame,(505,1),(600,65),colors[3],2)\n",
    "    cv2.putText(frame,\"CLEAR\",(49,33),cv2.FONT_HERSHEY_SIMPLEX,0.5,(0,0,0),2,cv2.LINE_AA)\n",
    "    cv2.putText(frame,\"RED\",(185,33),cv2.FONT_HERSHEY_SIMPLEX,0.5,(0,0,0),2,cv2.LINE_AA)\n",
    "    cv2.putText(frame,\"GREEN\",(298,33),cv2.FONT_HERSHEY_SIMPLEX,0.5,(0,0,0),2,cv2.LINE_AA)\n",
    "    cv2.putText(frame,\"BLUE\",(420,33),cv2.FONT_HERSHEY_SIMPLEX,0.5,(0,0,0),2,cv2.LINE_AA)\n",
    "    cv2.putText(frame,\"YELLOW\",(520,33),cv2.FONT_HERSHEY_SIMPLEX,0.5,(0,0,0),2,cv2.LINE_AA)\n",
    "\n",
    "    result=hands.process(framergb)#get hand landmark prediction\n",
    "\n",
    "    if result.multi_hand_landmarks:\n",
    "        landmarks=[]\n",
    "        for handslms in result.multi_hand_landmarks:\n",
    "            for lm in handslms.landmark:\n",
    "                lx=int(lm.x*640)#adjust acc to frame size as their values lie between 0 and 1\n",
    "                ly=int(lm.y*480)\n",
    "                landmarks.append([lx,ly])\n",
    "            mpDraw.draw_landmarks(frame,handslms,mpHands.HAND_CONNECTIONS)\n",
    "        fore_finger=(landmarks[8][0],landmarks[8][1])\n",
    "        center=fore_finger\n",
    "        thumb=(landmarks[4][0],landmarks[4][1])\n",
    "        cv2.circle(frame,center,3,(0,255,0),-1)\n",
    "        \n",
    "        if(thumb[1]-center[1]<30):\n",
    "            bpoints.append(deque(maxlen=512))\n",
    "            blue_index+=1\n",
    "            gpoints.append(deque(maxlen=512))\n",
    "            green_index+=1\n",
    "            rpoints.append(deque(maxlen=512))\n",
    "            red_index+=1\n",
    "            ypoints.append(deque(maxlen=512))\n",
    "            yellow_index+=1\n",
    "        elif(center[1]<=65):\n",
    "            if(40<=center[0]<=140):# if finger in the clear box\n",
    "                bpoints=[deque(maxlen=512)]\n",
    "                rpoints=[deque(maxlen=512)]\n",
    "                gpoints=[deque(maxlen=512)]\n",
    "                ypoints=[deque(maxlen=512)]\n",
    "\n",
    "                red_index=0\n",
    "                blue_index=0\n",
    "                green_index=0\n",
    "                yellow_index=0\n",
    "                paintwindow[67:,:,:]=255\n",
    "            elif(160<=center[0]<=255):\n",
    "                colorIndex=0\n",
    "            elif(275<=center[0]<=370):\n",
    "                colorIndex=1\n",
    "            elif(390<=center[0]<=485):\n",
    "                colorIndex=2\n",
    "            elif(505<=center[0]<=600):\n",
    "                colorIndex=3\n",
    "\n",
    "\n",
    "        else:\n",
    "            if colorIndex==0:\n",
    "                bpoints[blue_index].appendleft(center)\n",
    "            if colorIndex==1:\n",
    "                gpoints[green_index].appendleft(center)\n",
    "            if colorIndex==2:\n",
    "                rpoints[red_index].appendleft(center)    \n",
    "            if colorIndex==3:\n",
    "                ypoints[yellow_index].appendleft(center)\n",
    "        #append the next deques when nothing is detected to avoid messing up\n",
    "    else:\n",
    "            bpoints.append(deque(maxlen=512))\n",
    "            blue_index+=1\n",
    "            gpoints.append(deque(maxlen=512))\n",
    "            green_index+=1\n",
    "            rpoints.append(deque(maxlen=512))\n",
    "            red_index+=1\n",
    "            ypoints.append(deque(maxlen=512))\n",
    "            yellow_index+=1\n",
    "    points=[bpoints,gpoints,rpoints,ypoints] \n",
    "    for i in range(len(points)):\n",
    "        for j in range(len(points[i])):\n",
    "            for k in range(1,len(points[i][j])):\n",
    "                if points[i][j][k-1] is None or points[i][j][k] is None:\n",
    "                    continue\n",
    "                cv2.line(frame,points[i][j][k-1],points[i][j][k],colors[i],2)    \n",
    "                cv2.line(paintwindow,points[i][j][k-1],points[i][j][k],colors[i],2)\n",
    "    cv2.imshow(\"Output\",frame)\n",
    "    cv2.imshow(\"Paint\",paintwindow)\n",
    "\n",
    "    if(cv2.waitKey(1)==ord('q')):\n",
    "        break\n",
    "cap.release()\n",
    "cv2.destroyAllWindows()\n",
    " "
   ]
  },
  {
   "cell_type": "code",
   "execution_count": null,
   "id": "666425ef-526d-461e-8895-5a36ed94a1c8",
   "metadata": {},
   "outputs": [],
   "source": []
  }
 ],
 "metadata": {
  "kernelspec": {
   "display_name": "Python 3 (ipykernel)",
   "language": "python",
   "name": "python3"
  },
  "language_info": {
   "codemirror_mode": {
    "name": "ipython",
    "version": 3
   },
   "file_extension": ".py",
   "mimetype": "text/x-python",
   "name": "python",
   "nbconvert_exporter": "python",
   "pygments_lexer": "ipython3",
   "version": "3.11.7"
  }
 },
 "nbformat": 4,
 "nbformat_minor": 5
}
